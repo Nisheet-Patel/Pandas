{
 "cells": [
  {
   "cell_type": "code",
   "execution_count": 1,
   "id": "43af7ceb",
   "metadata": {},
   "outputs": [],
   "source": [
    "people = { \"first\" : ['nisheet','rohan','amit','abhi'],\n",
    "            \"last\" : ['patel', 'soni', 'soni', 'patel'],\n",
    "          \"email\" : [\"nisheet@gmail.com\", \"rohansoni@gmail.com\",\"amitsoni@gmail.com\",\"abhi@gmail.com\"]\n",
    "         }"
   ]
  },
  {
   "cell_type": "code",
   "execution_count": 2,
   "id": "b9754ce2",
   "metadata": {},
   "outputs": [],
   "source": [
    "import pandas as pd"
   ]
  },
  {
   "cell_type": "code",
   "execution_count": 3,
   "id": "e2526075",
   "metadata": {},
   "outputs": [],
   "source": [
    "df = pd.DataFrame(people)"
   ]
  },
  {
   "cell_type": "code",
   "execution_count": 4,
   "id": "bddd1a0a",
   "metadata": {},
   "outputs": [
    {
     "data": {
      "text/html": [
       "<div>\n",
       "<style scoped>\n",
       "    .dataframe tbody tr th:only-of-type {\n",
       "        vertical-align: middle;\n",
       "    }\n",
       "\n",
       "    .dataframe tbody tr th {\n",
       "        vertical-align: top;\n",
       "    }\n",
       "\n",
       "    .dataframe thead th {\n",
       "        text-align: right;\n",
       "    }\n",
       "</style>\n",
       "<table border=\"1\" class=\"dataframe\">\n",
       "  <thead>\n",
       "    <tr style=\"text-align: right;\">\n",
       "      <th></th>\n",
       "      <th>first</th>\n",
       "      <th>last</th>\n",
       "      <th>email</th>\n",
       "    </tr>\n",
       "  </thead>\n",
       "  <tbody>\n",
       "    <tr>\n",
       "      <th>0</th>\n",
       "      <td>nisheet</td>\n",
       "      <td>patel</td>\n",
       "      <td>nisheet@gmail.com</td>\n",
       "    </tr>\n",
       "    <tr>\n",
       "      <th>1</th>\n",
       "      <td>rohan</td>\n",
       "      <td>soni</td>\n",
       "      <td>rohansoni@gmail.com</td>\n",
       "    </tr>\n",
       "    <tr>\n",
       "      <th>2</th>\n",
       "      <td>amit</td>\n",
       "      <td>soni</td>\n",
       "      <td>amitsoni@gmail.com</td>\n",
       "    </tr>\n",
       "    <tr>\n",
       "      <th>3</th>\n",
       "      <td>abhi</td>\n",
       "      <td>patel</td>\n",
       "      <td>abhi@gmail.com</td>\n",
       "    </tr>\n",
       "  </tbody>\n",
       "</table>\n",
       "</div>"
      ],
      "text/plain": [
       "     first   last                email\n",
       "0  nisheet  patel    nisheet@gmail.com\n",
       "1    rohan   soni  rohansoni@gmail.com\n",
       "2     amit   soni   amitsoni@gmail.com\n",
       "3     abhi  patel       abhi@gmail.com"
      ]
     },
     "execution_count": 4,
     "metadata": {},
     "output_type": "execute_result"
    }
   ],
   "source": [
    "df"
   ]
  },
  {
   "cell_type": "code",
   "execution_count": 5,
   "id": "f58238aa",
   "metadata": {
    "scrolled": false
   },
   "outputs": [
    {
     "data": {
      "text/plain": [
       "0      nisheet@gmail.com\n",
       "1    rohansoni@gmail.com\n",
       "2     amitsoni@gmail.com\n",
       "3         abhi@gmail.com\n",
       "Name: email, dtype: object"
      ]
     },
     "execution_count": 5,
     "metadata": {},
     "output_type": "execute_result"
    }
   ],
   "source": [
    "df['email']"
   ]
  },
  {
   "cell_type": "code",
   "execution_count": 6,
   "id": "2e8f2ebd",
   "metadata": {},
   "outputs": [
    {
     "data": {
      "text/plain": [
       "0      nisheet@gmail.com\n",
       "1    rohansoni@gmail.com\n",
       "2     amitsoni@gmail.com\n",
       "3         abhi@gmail.com\n",
       "Name: email, dtype: object"
      ]
     },
     "execution_count": 6,
     "metadata": {},
     "output_type": "execute_result"
    }
   ],
   "source": [
    "df.email"
   ]
  },
  {
   "cell_type": "code",
   "execution_count": 7,
   "id": "65fa88cc",
   "metadata": {},
   "outputs": [
    {
     "data": {
      "text/plain": [
       "pandas.core.series.Series"
      ]
     },
     "execution_count": 7,
     "metadata": {},
     "output_type": "execute_result"
    }
   ],
   "source": [
    "type(df['email'])"
   ]
  },
  {
   "cell_type": "code",
   "execution_count": 8,
   "id": "7c8349b1",
   "metadata": {},
   "outputs": [
    {
     "data": {
      "text/plain": [
       "pandas.core.frame.DataFrame"
      ]
     },
     "execution_count": 8,
     "metadata": {},
     "output_type": "execute_result"
    }
   ],
   "source": [
    "type(df)"
   ]
  },
  {
   "cell_type": "code",
   "execution_count": 9,
   "id": "d4faef82",
   "metadata": {},
   "outputs": [
    {
     "data": {
      "text/html": [
       "<div>\n",
       "<style scoped>\n",
       "    .dataframe tbody tr th:only-of-type {\n",
       "        vertical-align: middle;\n",
       "    }\n",
       "\n",
       "    .dataframe tbody tr th {\n",
       "        vertical-align: top;\n",
       "    }\n",
       "\n",
       "    .dataframe thead th {\n",
       "        text-align: right;\n",
       "    }\n",
       "</style>\n",
       "<table border=\"1\" class=\"dataframe\">\n",
       "  <thead>\n",
       "    <tr style=\"text-align: right;\">\n",
       "      <th></th>\n",
       "      <th>last</th>\n",
       "      <th>email</th>\n",
       "    </tr>\n",
       "  </thead>\n",
       "  <tbody>\n",
       "    <tr>\n",
       "      <th>0</th>\n",
       "      <td>patel</td>\n",
       "      <td>nisheet@gmail.com</td>\n",
       "    </tr>\n",
       "    <tr>\n",
       "      <th>1</th>\n",
       "      <td>soni</td>\n",
       "      <td>rohansoni@gmail.com</td>\n",
       "    </tr>\n",
       "    <tr>\n",
       "      <th>2</th>\n",
       "      <td>soni</td>\n",
       "      <td>amitsoni@gmail.com</td>\n",
       "    </tr>\n",
       "    <tr>\n",
       "      <th>3</th>\n",
       "      <td>patel</td>\n",
       "      <td>abhi@gmail.com</td>\n",
       "    </tr>\n",
       "  </tbody>\n",
       "</table>\n",
       "</div>"
      ],
      "text/plain": [
       "    last                email\n",
       "0  patel    nisheet@gmail.com\n",
       "1   soni  rohansoni@gmail.com\n",
       "2   soni   amitsoni@gmail.com\n",
       "3  patel       abhi@gmail.com"
      ]
     },
     "execution_count": 9,
     "metadata": {},
     "output_type": "execute_result"
    }
   ],
   "source": [
    "df[['last','email']]"
   ]
  },
  {
   "cell_type": "code",
   "execution_count": 10,
   "id": "92f6785c",
   "metadata": {},
   "outputs": [
    {
     "data": {
      "text/plain": [
       "Index(['first', 'last', 'email'], dtype='object')"
      ]
     },
     "execution_count": 10,
     "metadata": {},
     "output_type": "execute_result"
    }
   ],
   "source": [
    "df.columns"
   ]
  },
  {
   "cell_type": "markdown",
   "id": "5ad8b6c9",
   "metadata": {},
   "source": [
    "# .iloc"
   ]
  },
  {
   "cell_type": "code",
   "execution_count": 11,
   "id": "7a0489d6",
   "metadata": {},
   "outputs": [
    {
     "data": {
      "text/plain": [
       "first              nisheet\n",
       "last                 patel\n",
       "email    nisheet@gmail.com\n",
       "Name: 0, dtype: object"
      ]
     },
     "execution_count": 11,
     "metadata": {},
     "output_type": "execute_result"
    }
   ],
   "source": [
    "df.iloc[0]"
   ]
  },
  {
   "cell_type": "code",
   "execution_count": 12,
   "id": "57621b7a",
   "metadata": {},
   "outputs": [
    {
     "data": {
      "text/html": [
       "<div>\n",
       "<style scoped>\n",
       "    .dataframe tbody tr th:only-of-type {\n",
       "        vertical-align: middle;\n",
       "    }\n",
       "\n",
       "    .dataframe tbody tr th {\n",
       "        vertical-align: top;\n",
       "    }\n",
       "\n",
       "    .dataframe thead th {\n",
       "        text-align: right;\n",
       "    }\n",
       "</style>\n",
       "<table border=\"1\" class=\"dataframe\">\n",
       "  <thead>\n",
       "    <tr style=\"text-align: right;\">\n",
       "      <th></th>\n",
       "      <th>first</th>\n",
       "      <th>last</th>\n",
       "      <th>email</th>\n",
       "    </tr>\n",
       "  </thead>\n",
       "  <tbody>\n",
       "    <tr>\n",
       "      <th>0</th>\n",
       "      <td>nisheet</td>\n",
       "      <td>patel</td>\n",
       "      <td>nisheet@gmail.com</td>\n",
       "    </tr>\n",
       "    <tr>\n",
       "      <th>2</th>\n",
       "      <td>amit</td>\n",
       "      <td>soni</td>\n",
       "      <td>amitsoni@gmail.com</td>\n",
       "    </tr>\n",
       "  </tbody>\n",
       "</table>\n",
       "</div>"
      ],
      "text/plain": [
       "     first   last               email\n",
       "0  nisheet  patel   nisheet@gmail.com\n",
       "2     amit   soni  amitsoni@gmail.com"
      ]
     },
     "execution_count": 12,
     "metadata": {},
     "output_type": "execute_result"
    }
   ],
   "source": [
    "df.iloc[[0,2]]"
   ]
  },
  {
   "cell_type": "code",
   "execution_count": 19,
   "id": "d376da98",
   "metadata": {},
   "outputs": [
    {
     "data": {
      "text/plain": [
       "0     nisheet@gmail.com\n",
       "2    amitsoni@gmail.com\n",
       "Name: email, dtype: object"
      ]
     },
     "execution_count": 19,
     "metadata": {},
     "output_type": "execute_result"
    }
   ],
   "source": [
    "#for having emails\n",
    "df.iloc[[0,2],2]"
   ]
  },
  {
   "cell_type": "markdown",
   "id": "5d88e6fb",
   "metadata": {},
   "source": [
    "# .loc"
   ]
  },
  {
   "cell_type": "code",
   "execution_count": 17,
   "id": "c4952115",
   "metadata": {},
   "outputs": [
    {
     "data": {
      "text/plain": [
       "0     nisheet@gmail.com\n",
       "2    amitsoni@gmail.com\n",
       "Name: email, dtype: object"
      ]
     },
     "execution_count": 17,
     "metadata": {},
     "output_type": "execute_result"
    }
   ],
   "source": [
    "#in loc you can pass string \n",
    "df.loc[[0,2],'email']"
   ]
  },
  {
   "cell_type": "code",
   "execution_count": 25,
   "id": "2204713a",
   "metadata": {},
   "outputs": [
    {
     "data": {
      "text/plain": [
       "0      nisheet@gmail.com\n",
       "1    rohansoni@gmail.com\n",
       "2     amitsoni@gmail.com\n",
       "Name: email, dtype: object"
      ]
     },
     "execution_count": 25,
     "metadata": {},
     "output_type": "execute_result"
    }
   ],
   "source": [
    "#we can use slicing\n",
    "df.loc[0:2,'email']\n",
    "# df.loc[0:2,'first':'email']"
   ]
  },
  {
   "cell_type": "code",
   "execution_count": 21,
   "id": "7492b3d7",
   "metadata": {},
   "outputs": [
    {
     "data": {
      "text/html": [
       "<div>\n",
       "<style scoped>\n",
       "    .dataframe tbody tr th:only-of-type {\n",
       "        vertical-align: middle;\n",
       "    }\n",
       "\n",
       "    .dataframe tbody tr th {\n",
       "        vertical-align: top;\n",
       "    }\n",
       "\n",
       "    .dataframe thead th {\n",
       "        text-align: right;\n",
       "    }\n",
       "</style>\n",
       "<table border=\"1\" class=\"dataframe\">\n",
       "  <thead>\n",
       "    <tr style=\"text-align: right;\">\n",
       "      <th></th>\n",
       "      <th>email</th>\n",
       "      <th>last</th>\n",
       "    </tr>\n",
       "  </thead>\n",
       "  <tbody>\n",
       "    <tr>\n",
       "      <th>0</th>\n",
       "      <td>nisheet@gmail.com</td>\n",
       "      <td>patel</td>\n",
       "    </tr>\n",
       "    <tr>\n",
       "      <th>2</th>\n",
       "      <td>amitsoni@gmail.com</td>\n",
       "      <td>soni</td>\n",
       "    </tr>\n",
       "  </tbody>\n",
       "</table>\n",
       "</div>"
      ],
      "text/plain": [
       "                email   last\n",
       "0   nisheet@gmail.com  patel\n",
       "2  amitsoni@gmail.com   soni"
      ]
     },
     "execution_count": 21,
     "metadata": {},
     "output_type": "execute_result"
    }
   ],
   "source": [
    "df.loc[[0,2],['email','last']]"
   ]
  },
  {
   "cell_type": "code",
   "execution_count": 23,
   "id": "2c93d4e2",
   "metadata": {},
   "outputs": [
    {
     "data": {
      "text/plain": [
       "soni     2\n",
       "patel    2\n",
       "Name: last, dtype: int64"
      ]
     },
     "execution_count": 23,
     "metadata": {},
     "output_type": "execute_result"
    }
   ],
   "source": [
    "df['last'].value_counts()"
   ]
  },
  {
   "cell_type": "code",
   "execution_count": null,
   "id": "b5ba3614",
   "metadata": {},
   "outputs": [],
   "source": []
  }
 ],
 "metadata": {
  "kernelspec": {
   "display_name": "Python 3",
   "language": "python",
   "name": "python3"
  },
  "language_info": {
   "codemirror_mode": {
    "name": "ipython",
    "version": 3
   },
   "file_extension": ".py",
   "mimetype": "text/x-python",
   "name": "python",
   "nbconvert_exporter": "python",
   "pygments_lexer": "ipython3",
   "version": "3.9.0"
  }
 },
 "nbformat": 4,
 "nbformat_minor": 5
}
