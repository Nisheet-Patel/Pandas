{
 "cells": [
  {
   "cell_type": "code",
   "execution_count": 1,
   "id": "c67ad541",
   "metadata": {},
   "outputs": [],
   "source": [
    "people = { \"first\" : ['nisheet','rohan','amit','abhi'],\n",
    "            \"last\" : ['patel', 'soni', 'soni', 'patel'],\n",
    "          \"email\" : [\"nisheet@gmail.com\", \"rohansoni@gmail.com\",\"amitsoni@gmail.com\",\"abhi@gmail.com\"]\n",
    "         }"
   ]
  },
  {
   "cell_type": "code",
   "execution_count": 2,
   "id": "68a10c9f",
   "metadata": {},
   "outputs": [],
   "source": [
    "import pandas as pd"
   ]
  },
  {
   "cell_type": "code",
   "execution_count": 3,
   "id": "9d103854",
   "metadata": {},
   "outputs": [],
   "source": [
    "# you can set parameter index_col=\"<column-name>\"\n",
    "# df = pd.DataFrame(people, index_col=\"first\")\n",
    "df = pd.DataFrame(people)"
   ]
  },
  {
   "cell_type": "code",
   "execution_count": 4,
   "id": "7fffa05a",
   "metadata": {},
   "outputs": [
    {
     "data": {
      "text/html": [
       "<div>\n",
       "<style scoped>\n",
       "    .dataframe tbody tr th:only-of-type {\n",
       "        vertical-align: middle;\n",
       "    }\n",
       "\n",
       "    .dataframe tbody tr th {\n",
       "        vertical-align: top;\n",
       "    }\n",
       "\n",
       "    .dataframe thead th {\n",
       "        text-align: right;\n",
       "    }\n",
       "</style>\n",
       "<table border=\"1\" class=\"dataframe\">\n",
       "  <thead>\n",
       "    <tr style=\"text-align: right;\">\n",
       "      <th></th>\n",
       "      <th>first</th>\n",
       "      <th>last</th>\n",
       "      <th>email</th>\n",
       "    </tr>\n",
       "  </thead>\n",
       "  <tbody>\n",
       "    <tr>\n",
       "      <th>0</th>\n",
       "      <td>nisheet</td>\n",
       "      <td>patel</td>\n",
       "      <td>nisheet@gmail.com</td>\n",
       "    </tr>\n",
       "    <tr>\n",
       "      <th>1</th>\n",
       "      <td>rohan</td>\n",
       "      <td>soni</td>\n",
       "      <td>rohansoni@gmail.com</td>\n",
       "    </tr>\n",
       "    <tr>\n",
       "      <th>2</th>\n",
       "      <td>amit</td>\n",
       "      <td>soni</td>\n",
       "      <td>amitsoni@gmail.com</td>\n",
       "    </tr>\n",
       "    <tr>\n",
       "      <th>3</th>\n",
       "      <td>abhi</td>\n",
       "      <td>patel</td>\n",
       "      <td>abhi@gmail.com</td>\n",
       "    </tr>\n",
       "  </tbody>\n",
       "</table>\n",
       "</div>"
      ],
      "text/plain": [
       "     first   last                email\n",
       "0  nisheet  patel    nisheet@gmail.com\n",
       "1    rohan   soni  rohansoni@gmail.com\n",
       "2     amit   soni   amitsoni@gmail.com\n",
       "3     abhi  patel       abhi@gmail.com"
      ]
     },
     "execution_count": 4,
     "metadata": {},
     "output_type": "execute_result"
    }
   ],
   "source": [
    "df"
   ]
  },
  {
   "cell_type": "code",
   "execution_count": 5,
   "id": "3fe80ab8",
   "metadata": {},
   "outputs": [
    {
     "data": {
      "text/plain": [
       "0      nisheet@gmail.com\n",
       "1    rohansoni@gmail.com\n",
       "2     amitsoni@gmail.com\n",
       "3         abhi@gmail.com\n",
       "Name: email, dtype: object"
      ]
     },
     "execution_count": 5,
     "metadata": {},
     "output_type": "execute_result"
    }
   ],
   "source": [
    "df['email']"
   ]
  },
  {
   "cell_type": "code",
   "execution_count": 6,
   "id": "b2b7018d",
   "metadata": {},
   "outputs": [],
   "source": [
    "df.set_index('email', inplace=True)"
   ]
  },
  {
   "cell_type": "code",
   "execution_count": 7,
   "id": "f4618f84",
   "metadata": {},
   "outputs": [
    {
     "data": {
      "text/html": [
       "<div>\n",
       "<style scoped>\n",
       "    .dataframe tbody tr th:only-of-type {\n",
       "        vertical-align: middle;\n",
       "    }\n",
       "\n",
       "    .dataframe tbody tr th {\n",
       "        vertical-align: top;\n",
       "    }\n",
       "\n",
       "    .dataframe thead th {\n",
       "        text-align: right;\n",
       "    }\n",
       "</style>\n",
       "<table border=\"1\" class=\"dataframe\">\n",
       "  <thead>\n",
       "    <tr style=\"text-align: right;\">\n",
       "      <th></th>\n",
       "      <th>first</th>\n",
       "      <th>last</th>\n",
       "    </tr>\n",
       "    <tr>\n",
       "      <th>email</th>\n",
       "      <th></th>\n",
       "      <th></th>\n",
       "    </tr>\n",
       "  </thead>\n",
       "  <tbody>\n",
       "    <tr>\n",
       "      <th>nisheet@gmail.com</th>\n",
       "      <td>nisheet</td>\n",
       "      <td>patel</td>\n",
       "    </tr>\n",
       "    <tr>\n",
       "      <th>rohansoni@gmail.com</th>\n",
       "      <td>rohan</td>\n",
       "      <td>soni</td>\n",
       "    </tr>\n",
       "    <tr>\n",
       "      <th>amitsoni@gmail.com</th>\n",
       "      <td>amit</td>\n",
       "      <td>soni</td>\n",
       "    </tr>\n",
       "    <tr>\n",
       "      <th>abhi@gmail.com</th>\n",
       "      <td>abhi</td>\n",
       "      <td>patel</td>\n",
       "    </tr>\n",
       "  </tbody>\n",
       "</table>\n",
       "</div>"
      ],
      "text/plain": [
       "                       first   last\n",
       "email                              \n",
       "nisheet@gmail.com    nisheet  patel\n",
       "rohansoni@gmail.com    rohan   soni\n",
       "amitsoni@gmail.com      amit   soni\n",
       "abhi@gmail.com          abhi  patel"
      ]
     },
     "execution_count": 7,
     "metadata": {},
     "output_type": "execute_result"
    }
   ],
   "source": [
    "df"
   ]
  },
  {
   "cell_type": "code",
   "execution_count": 8,
   "id": "28f3b589",
   "metadata": {},
   "outputs": [
    {
     "data": {
      "text/plain": [
       "Index(['nisheet@gmail.com', 'rohansoni@gmail.com', 'amitsoni@gmail.com',\n",
       "       'abhi@gmail.com'],\n",
       "      dtype='object', name='email')"
      ]
     },
     "execution_count": 8,
     "metadata": {},
     "output_type": "execute_result"
    }
   ],
   "source": [
    "df.index"
   ]
  },
  {
   "cell_type": "code",
   "execution_count": 9,
   "id": "e06790e3",
   "metadata": {},
   "outputs": [
    {
     "data": {
      "text/plain": [
       "first    nisheet\n",
       "last       patel\n",
       "Name: nisheet@gmail.com, dtype: object"
      ]
     },
     "execution_count": 9,
     "metadata": {},
     "output_type": "execute_result"
    }
   ],
   "source": [
    "df.loc['nisheet@gmail.com']"
   ]
  },
  {
   "cell_type": "code",
   "execution_count": 10,
   "id": "18bda6bc",
   "metadata": {},
   "outputs": [],
   "source": [
    "df.reset_index(inplace=True)"
   ]
  },
  {
   "cell_type": "code",
   "execution_count": 11,
   "id": "a7f28324",
   "metadata": {},
   "outputs": [],
   "source": [
    "# df.sort_index() it will sort index in acscending order.\n",
    "# df.sort_index(ascending=False) now it sort in descending order"
   ]
  },
  {
   "cell_type": "code",
   "execution_count": null,
   "id": "7e95977b",
   "metadata": {},
   "outputs": [],
   "source": []
  }
 ],
 "metadata": {
  "kernelspec": {
   "display_name": "Python 3",
   "language": "python",
   "name": "python3"
  },
  "language_info": {
   "codemirror_mode": {
    "name": "ipython",
    "version": 3
   },
   "file_extension": ".py",
   "mimetype": "text/x-python",
   "name": "python",
   "nbconvert_exporter": "python",
   "pygments_lexer": "ipython3",
   "version": "3.9.0"
  }
 },
 "nbformat": 4,
 "nbformat_minor": 5
}
