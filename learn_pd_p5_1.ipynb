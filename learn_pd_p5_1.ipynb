{
 "cells": [
  {
   "cell_type": "code",
   "execution_count": 1,
   "id": "578eae35",
   "metadata": {},
   "outputs": [],
   "source": [
    "people = { \"first\" : ['nisheet','rohan','amit','abhi','priyanshu','shlok'],\n",
    "            \"last\" : ['patel', 'soni', 'soni', 'patel','patel','bhavsar'],\n",
    "          \"email\" : [\"nisheet@gmail.com\", \"rohansoni@gmail.com\",\"amitsoni@gmail.com\",\"abhi@gmail.com\",'priyanshu@gmail.com','sb22@gmail.com']\n",
    "         }"
   ]
  },
  {
   "cell_type": "code",
   "execution_count": 2,
   "id": "c3d42b66",
   "metadata": {},
   "outputs": [],
   "source": [
    "import pandas as pd\n",
    "df = pd.DataFrame(people)"
   ]
  },
  {
   "cell_type": "markdown",
   "id": "007149bc",
   "metadata": {},
   "source": [
    "## Changing Columns"
   ]
  },
  {
   "cell_type": "code",
   "execution_count": 3,
   "id": "065dd043",
   "metadata": {},
   "outputs": [
    {
     "data": {
      "text/plain": [
       "Index(['first', 'last', 'email'], dtype='object')"
      ]
     },
     "execution_count": 3,
     "metadata": {},
     "output_type": "execute_result"
    }
   ],
   "source": [
    "df.columns"
   ]
  },
  {
   "cell_type": "code",
   "execution_count": 4,
   "id": "ad975e92",
   "metadata": {},
   "outputs": [],
   "source": [
    "df.columns = ['first_name','last_name','email']"
   ]
  },
  {
   "cell_type": "code",
   "execution_count": 5,
   "id": "2609caeb",
   "metadata": {},
   "outputs": [
    {
     "data": {
      "text/html": [
       "<div>\n",
       "<style scoped>\n",
       "    .dataframe tbody tr th:only-of-type {\n",
       "        vertical-align: middle;\n",
       "    }\n",
       "\n",
       "    .dataframe tbody tr th {\n",
       "        vertical-align: top;\n",
       "    }\n",
       "\n",
       "    .dataframe thead th {\n",
       "        text-align: right;\n",
       "    }\n",
       "</style>\n",
       "<table border=\"1\" class=\"dataframe\">\n",
       "  <thead>\n",
       "    <tr style=\"text-align: right;\">\n",
       "      <th></th>\n",
       "      <th>first_name</th>\n",
       "      <th>last_name</th>\n",
       "      <th>email</th>\n",
       "    </tr>\n",
       "  </thead>\n",
       "  <tbody>\n",
       "    <tr>\n",
       "      <th>0</th>\n",
       "      <td>nisheet</td>\n",
       "      <td>patel</td>\n",
       "      <td>nisheet@gmail.com</td>\n",
       "    </tr>\n",
       "    <tr>\n",
       "      <th>1</th>\n",
       "      <td>rohan</td>\n",
       "      <td>soni</td>\n",
       "      <td>rohansoni@gmail.com</td>\n",
       "    </tr>\n",
       "    <tr>\n",
       "      <th>2</th>\n",
       "      <td>amit</td>\n",
       "      <td>soni</td>\n",
       "      <td>amitsoni@gmail.com</td>\n",
       "    </tr>\n",
       "    <tr>\n",
       "      <th>3</th>\n",
       "      <td>abhi</td>\n",
       "      <td>patel</td>\n",
       "      <td>abhi@gmail.com</td>\n",
       "    </tr>\n",
       "    <tr>\n",
       "      <th>4</th>\n",
       "      <td>priyanshu</td>\n",
       "      <td>patel</td>\n",
       "      <td>priyanshu@gmail.com</td>\n",
       "    </tr>\n",
       "    <tr>\n",
       "      <th>5</th>\n",
       "      <td>shlok</td>\n",
       "      <td>bhavsar</td>\n",
       "      <td>sb22@gmail.com</td>\n",
       "    </tr>\n",
       "  </tbody>\n",
       "</table>\n",
       "</div>"
      ],
      "text/plain": [
       "  first_name last_name                email\n",
       "0    nisheet     patel    nisheet@gmail.com\n",
       "1      rohan      soni  rohansoni@gmail.com\n",
       "2       amit      soni   amitsoni@gmail.com\n",
       "3       abhi     patel       abhi@gmail.com\n",
       "4  priyanshu     patel  priyanshu@gmail.com\n",
       "5      shlok   bhavsar       sb22@gmail.com"
      ]
     },
     "execution_count": 5,
     "metadata": {},
     "output_type": "execute_result"
    }
   ],
   "source": [
    "df"
   ]
  },
  {
   "cell_type": "code",
   "execution_count": 6,
   "id": "598e18b5",
   "metadata": {},
   "outputs": [],
   "source": [
    "df.columns = [x.upper() for x in df.columns]"
   ]
  },
  {
   "cell_type": "code",
   "execution_count": 7,
   "id": "daa3511d",
   "metadata": {},
   "outputs": [
    {
     "data": {
      "text/html": [
       "<div>\n",
       "<style scoped>\n",
       "    .dataframe tbody tr th:only-of-type {\n",
       "        vertical-align: middle;\n",
       "    }\n",
       "\n",
       "    .dataframe tbody tr th {\n",
       "        vertical-align: top;\n",
       "    }\n",
       "\n",
       "    .dataframe thead th {\n",
       "        text-align: right;\n",
       "    }\n",
       "</style>\n",
       "<table border=\"1\" class=\"dataframe\">\n",
       "  <thead>\n",
       "    <tr style=\"text-align: right;\">\n",
       "      <th></th>\n",
       "      <th>FIRST_NAME</th>\n",
       "      <th>LAST_NAME</th>\n",
       "      <th>EMAIL</th>\n",
       "    </tr>\n",
       "  </thead>\n",
       "  <tbody>\n",
       "    <tr>\n",
       "      <th>0</th>\n",
       "      <td>nisheet</td>\n",
       "      <td>patel</td>\n",
       "      <td>nisheet@gmail.com</td>\n",
       "    </tr>\n",
       "    <tr>\n",
       "      <th>1</th>\n",
       "      <td>rohan</td>\n",
       "      <td>soni</td>\n",
       "      <td>rohansoni@gmail.com</td>\n",
       "    </tr>\n",
       "    <tr>\n",
       "      <th>2</th>\n",
       "      <td>amit</td>\n",
       "      <td>soni</td>\n",
       "      <td>amitsoni@gmail.com</td>\n",
       "    </tr>\n",
       "    <tr>\n",
       "      <th>3</th>\n",
       "      <td>abhi</td>\n",
       "      <td>patel</td>\n",
       "      <td>abhi@gmail.com</td>\n",
       "    </tr>\n",
       "    <tr>\n",
       "      <th>4</th>\n",
       "      <td>priyanshu</td>\n",
       "      <td>patel</td>\n",
       "      <td>priyanshu@gmail.com</td>\n",
       "    </tr>\n",
       "    <tr>\n",
       "      <th>5</th>\n",
       "      <td>shlok</td>\n",
       "      <td>bhavsar</td>\n",
       "      <td>sb22@gmail.com</td>\n",
       "    </tr>\n",
       "  </tbody>\n",
       "</table>\n",
       "</div>"
      ],
      "text/plain": [
       "  FIRST_NAME LAST_NAME                EMAIL\n",
       "0    nisheet     patel    nisheet@gmail.com\n",
       "1      rohan      soni  rohansoni@gmail.com\n",
       "2       amit      soni   amitsoni@gmail.com\n",
       "3       abhi     patel       abhi@gmail.com\n",
       "4  priyanshu     patel  priyanshu@gmail.com\n",
       "5      shlok   bhavsar       sb22@gmail.com"
      ]
     },
     "execution_count": 7,
     "metadata": {},
     "output_type": "execute_result"
    }
   ],
   "source": [
    "df"
   ]
  },
  {
   "cell_type": "code",
   "execution_count": 8,
   "id": "2546bd87",
   "metadata": {},
   "outputs": [],
   "source": [
    "df.columns = df.columns.str.replace('_',' ')"
   ]
  },
  {
   "cell_type": "code",
   "execution_count": 9,
   "id": "b92f10ed",
   "metadata": {},
   "outputs": [
    {
     "data": {
      "text/html": [
       "<div>\n",
       "<style scoped>\n",
       "    .dataframe tbody tr th:only-of-type {\n",
       "        vertical-align: middle;\n",
       "    }\n",
       "\n",
       "    .dataframe tbody tr th {\n",
       "        vertical-align: top;\n",
       "    }\n",
       "\n",
       "    .dataframe thead th {\n",
       "        text-align: right;\n",
       "    }\n",
       "</style>\n",
       "<table border=\"1\" class=\"dataframe\">\n",
       "  <thead>\n",
       "    <tr style=\"text-align: right;\">\n",
       "      <th></th>\n",
       "      <th>FIRST NAME</th>\n",
       "      <th>LAST NAME</th>\n",
       "      <th>EMAIL</th>\n",
       "    </tr>\n",
       "  </thead>\n",
       "  <tbody>\n",
       "    <tr>\n",
       "      <th>0</th>\n",
       "      <td>nisheet</td>\n",
       "      <td>patel</td>\n",
       "      <td>nisheet@gmail.com</td>\n",
       "    </tr>\n",
       "    <tr>\n",
       "      <th>1</th>\n",
       "      <td>rohan</td>\n",
       "      <td>soni</td>\n",
       "      <td>rohansoni@gmail.com</td>\n",
       "    </tr>\n",
       "    <tr>\n",
       "      <th>2</th>\n",
       "      <td>amit</td>\n",
       "      <td>soni</td>\n",
       "      <td>amitsoni@gmail.com</td>\n",
       "    </tr>\n",
       "    <tr>\n",
       "      <th>3</th>\n",
       "      <td>abhi</td>\n",
       "      <td>patel</td>\n",
       "      <td>abhi@gmail.com</td>\n",
       "    </tr>\n",
       "    <tr>\n",
       "      <th>4</th>\n",
       "      <td>priyanshu</td>\n",
       "      <td>patel</td>\n",
       "      <td>priyanshu@gmail.com</td>\n",
       "    </tr>\n",
       "    <tr>\n",
       "      <th>5</th>\n",
       "      <td>shlok</td>\n",
       "      <td>bhavsar</td>\n",
       "      <td>sb22@gmail.com</td>\n",
       "    </tr>\n",
       "  </tbody>\n",
       "</table>\n",
       "</div>"
      ],
      "text/plain": [
       "  FIRST NAME LAST NAME                EMAIL\n",
       "0    nisheet     patel    nisheet@gmail.com\n",
       "1      rohan      soni  rohansoni@gmail.com\n",
       "2       amit      soni   amitsoni@gmail.com\n",
       "3       abhi     patel       abhi@gmail.com\n",
       "4  priyanshu     patel  priyanshu@gmail.com\n",
       "5      shlok   bhavsar       sb22@gmail.com"
      ]
     },
     "execution_count": 9,
     "metadata": {},
     "output_type": "execute_result"
    }
   ],
   "source": [
    "df"
   ]
  },
  {
   "cell_type": "code",
   "execution_count": 10,
   "id": "e18f4f49",
   "metadata": {},
   "outputs": [],
   "source": [
    "# undo\n",
    "df.columns = [x.lower() for x in df.columns]\n",
    "df.columns = df.columns.str.replace(' ','_')"
   ]
  },
  {
   "cell_type": "code",
   "execution_count": 11,
   "id": "81ace74d",
   "metadata": {},
   "outputs": [
    {
     "data": {
      "text/html": [
       "<div>\n",
       "<style scoped>\n",
       "    .dataframe tbody tr th:only-of-type {\n",
       "        vertical-align: middle;\n",
       "    }\n",
       "\n",
       "    .dataframe tbody tr th {\n",
       "        vertical-align: top;\n",
       "    }\n",
       "\n",
       "    .dataframe thead th {\n",
       "        text-align: right;\n",
       "    }\n",
       "</style>\n",
       "<table border=\"1\" class=\"dataframe\">\n",
       "  <thead>\n",
       "    <tr style=\"text-align: right;\">\n",
       "      <th></th>\n",
       "      <th>first_name</th>\n",
       "      <th>last_name</th>\n",
       "      <th>email</th>\n",
       "    </tr>\n",
       "  </thead>\n",
       "  <tbody>\n",
       "    <tr>\n",
       "      <th>0</th>\n",
       "      <td>nisheet</td>\n",
       "      <td>patel</td>\n",
       "      <td>nisheet@gmail.com</td>\n",
       "    </tr>\n",
       "    <tr>\n",
       "      <th>1</th>\n",
       "      <td>rohan</td>\n",
       "      <td>soni</td>\n",
       "      <td>rohansoni@gmail.com</td>\n",
       "    </tr>\n",
       "    <tr>\n",
       "      <th>2</th>\n",
       "      <td>amit</td>\n",
       "      <td>soni</td>\n",
       "      <td>amitsoni@gmail.com</td>\n",
       "    </tr>\n",
       "    <tr>\n",
       "      <th>3</th>\n",
       "      <td>abhi</td>\n",
       "      <td>patel</td>\n",
       "      <td>abhi@gmail.com</td>\n",
       "    </tr>\n",
       "    <tr>\n",
       "      <th>4</th>\n",
       "      <td>priyanshu</td>\n",
       "      <td>patel</td>\n",
       "      <td>priyanshu@gmail.com</td>\n",
       "    </tr>\n",
       "    <tr>\n",
       "      <th>5</th>\n",
       "      <td>shlok</td>\n",
       "      <td>bhavsar</td>\n",
       "      <td>sb22@gmail.com</td>\n",
       "    </tr>\n",
       "  </tbody>\n",
       "</table>\n",
       "</div>"
      ],
      "text/plain": [
       "  first_name last_name                email\n",
       "0    nisheet     patel    nisheet@gmail.com\n",
       "1      rohan      soni  rohansoni@gmail.com\n",
       "2       amit      soni   amitsoni@gmail.com\n",
       "3       abhi     patel       abhi@gmail.com\n",
       "4  priyanshu     patel  priyanshu@gmail.com\n",
       "5      shlok   bhavsar       sb22@gmail.com"
      ]
     },
     "execution_count": 11,
     "metadata": {},
     "output_type": "execute_result"
    }
   ],
   "source": [
    "df"
   ]
  },
  {
   "cell_type": "markdown",
   "id": "5d961240",
   "metadata": {},
   "source": [
    "## .rename()"
   ]
  },
  {
   "cell_type": "code",
   "execution_count": 12,
   "id": "13a4c04c",
   "metadata": {},
   "outputs": [],
   "source": [
    "df.rename(columns={'first_name' : 'first',\"last_name\" : \"last\"}, inplace=True)"
   ]
  },
  {
   "cell_type": "code",
   "execution_count": 13,
   "id": "8f39d9f5",
   "metadata": {},
   "outputs": [
    {
     "data": {
      "text/html": [
       "<div>\n",
       "<style scoped>\n",
       "    .dataframe tbody tr th:only-of-type {\n",
       "        vertical-align: middle;\n",
       "    }\n",
       "\n",
       "    .dataframe tbody tr th {\n",
       "        vertical-align: top;\n",
       "    }\n",
       "\n",
       "    .dataframe thead th {\n",
       "        text-align: right;\n",
       "    }\n",
       "</style>\n",
       "<table border=\"1\" class=\"dataframe\">\n",
       "  <thead>\n",
       "    <tr style=\"text-align: right;\">\n",
       "      <th></th>\n",
       "      <th>first</th>\n",
       "      <th>last</th>\n",
       "      <th>email</th>\n",
       "    </tr>\n",
       "  </thead>\n",
       "  <tbody>\n",
       "    <tr>\n",
       "      <th>0</th>\n",
       "      <td>nisheet</td>\n",
       "      <td>patel</td>\n",
       "      <td>nisheet@gmail.com</td>\n",
       "    </tr>\n",
       "    <tr>\n",
       "      <th>1</th>\n",
       "      <td>rohan</td>\n",
       "      <td>soni</td>\n",
       "      <td>rohansoni@gmail.com</td>\n",
       "    </tr>\n",
       "    <tr>\n",
       "      <th>2</th>\n",
       "      <td>amit</td>\n",
       "      <td>soni</td>\n",
       "      <td>amitsoni@gmail.com</td>\n",
       "    </tr>\n",
       "    <tr>\n",
       "      <th>3</th>\n",
       "      <td>abhi</td>\n",
       "      <td>patel</td>\n",
       "      <td>abhi@gmail.com</td>\n",
       "    </tr>\n",
       "    <tr>\n",
       "      <th>4</th>\n",
       "      <td>priyanshu</td>\n",
       "      <td>patel</td>\n",
       "      <td>priyanshu@gmail.com</td>\n",
       "    </tr>\n",
       "    <tr>\n",
       "      <th>5</th>\n",
       "      <td>shlok</td>\n",
       "      <td>bhavsar</td>\n",
       "      <td>sb22@gmail.com</td>\n",
       "    </tr>\n",
       "  </tbody>\n",
       "</table>\n",
       "</div>"
      ],
      "text/plain": [
       "       first     last                email\n",
       "0    nisheet    patel    nisheet@gmail.com\n",
       "1      rohan     soni  rohansoni@gmail.com\n",
       "2       amit     soni   amitsoni@gmail.com\n",
       "3       abhi    patel       abhi@gmail.com\n",
       "4  priyanshu    patel  priyanshu@gmail.com\n",
       "5      shlok  bhavsar       sb22@gmail.com"
      ]
     },
     "execution_count": 13,
     "metadata": {},
     "output_type": "execute_result"
    }
   ],
   "source": [
    "df"
   ]
  },
  {
   "cell_type": "markdown",
   "id": "ca3ebe48",
   "metadata": {},
   "source": [
    "## Value Change"
   ]
  },
  {
   "cell_type": "code",
   "execution_count": 14,
   "id": "6bcd5c7c",
   "metadata": {},
   "outputs": [],
   "source": [
    "df.loc[5,'email'] = \"shlok22@gmail.com\""
   ]
  },
  {
   "cell_type": "code",
   "execution_count": 15,
   "id": "7cc21ecc",
   "metadata": {},
   "outputs": [],
   "source": [
    "df.loc[1,['last','email']] = ['sharma',\"rohan32@gmail.com\"]"
   ]
  },
  {
   "cell_type": "code",
   "execution_count": 16,
   "id": "d3997a92",
   "metadata": {},
   "outputs": [],
   "source": [
    "df.at[2, 'email'] = \"amilsoni2@gmail.com\""
   ]
  },
  {
   "cell_type": "code",
   "execution_count": 17,
   "id": "6ed818d0",
   "metadata": {},
   "outputs": [
    {
     "data": {
      "text/html": [
       "<div>\n",
       "<style scoped>\n",
       "    .dataframe tbody tr th:only-of-type {\n",
       "        vertical-align: middle;\n",
       "    }\n",
       "\n",
       "    .dataframe tbody tr th {\n",
       "        vertical-align: top;\n",
       "    }\n",
       "\n",
       "    .dataframe thead th {\n",
       "        text-align: right;\n",
       "    }\n",
       "</style>\n",
       "<table border=\"1\" class=\"dataframe\">\n",
       "  <thead>\n",
       "    <tr style=\"text-align: right;\">\n",
       "      <th></th>\n",
       "      <th>first</th>\n",
       "      <th>last</th>\n",
       "      <th>email</th>\n",
       "    </tr>\n",
       "  </thead>\n",
       "  <tbody>\n",
       "    <tr>\n",
       "      <th>0</th>\n",
       "      <td>nisheet</td>\n",
       "      <td>patel</td>\n",
       "      <td>nisheet@gmail.com</td>\n",
       "    </tr>\n",
       "    <tr>\n",
       "      <th>1</th>\n",
       "      <td>rohan</td>\n",
       "      <td>sharma</td>\n",
       "      <td>rohan32@gmail.com</td>\n",
       "    </tr>\n",
       "    <tr>\n",
       "      <th>2</th>\n",
       "      <td>amit</td>\n",
       "      <td>soni</td>\n",
       "      <td>amilsoni2@gmail.com</td>\n",
       "    </tr>\n",
       "    <tr>\n",
       "      <th>3</th>\n",
       "      <td>abhi</td>\n",
       "      <td>patel</td>\n",
       "      <td>abhi@gmail.com</td>\n",
       "    </tr>\n",
       "    <tr>\n",
       "      <th>4</th>\n",
       "      <td>priyanshu</td>\n",
       "      <td>patel</td>\n",
       "      <td>priyanshu@gmail.com</td>\n",
       "    </tr>\n",
       "    <tr>\n",
       "      <th>5</th>\n",
       "      <td>shlok</td>\n",
       "      <td>bhavsar</td>\n",
       "      <td>shlok22@gmail.com</td>\n",
       "    </tr>\n",
       "  </tbody>\n",
       "</table>\n",
       "</div>"
      ],
      "text/plain": [
       "       first     last                email\n",
       "0    nisheet    patel    nisheet@gmail.com\n",
       "1      rohan   sharma    rohan32@gmail.com\n",
       "2       amit     soni  amilsoni2@gmail.com\n",
       "3       abhi    patel       abhi@gmail.com\n",
       "4  priyanshu    patel  priyanshu@gmail.com\n",
       "5      shlok  bhavsar    shlok22@gmail.com"
      ]
     },
     "execution_count": 17,
     "metadata": {},
     "output_type": "execute_result"
    }
   ],
   "source": [
    "df"
   ]
  },
  {
   "cell_type": "markdown",
   "id": "0ef2003d",
   "metadata": {},
   "source": [
    "## .apply()"
   ]
  },
  {
   "cell_type": "code",
   "execution_count": 18,
   "id": "ef4ee590",
   "metadata": {},
   "outputs": [
    {
     "data": {
      "text/plain": [
       "0    17\n",
       "1    17\n",
       "2    19\n",
       "3    14\n",
       "4    19\n",
       "5    17\n",
       "Name: email, dtype: int64"
      ]
     },
     "execution_count": 18,
     "metadata": {},
     "output_type": "execute_result"
    }
   ],
   "source": [
    "df['email'].apply(len)"
   ]
  },
  {
   "cell_type": "code",
   "execution_count": 19,
   "id": "f0d06f51",
   "metadata": {},
   "outputs": [],
   "source": [
    "def upper_email(email):\n",
    "    return email.upper()"
   ]
  },
  {
   "cell_type": "code",
   "execution_count": 20,
   "id": "46d74fde",
   "metadata": {},
   "outputs": [
    {
     "data": {
      "text/plain": [
       "0      NISHEET@GMAIL.COM\n",
       "1      ROHAN32@GMAIL.COM\n",
       "2    AMILSONI2@GMAIL.COM\n",
       "3         ABHI@GMAIL.COM\n",
       "4    PRIYANSHU@GMAIL.COM\n",
       "5      SHLOK22@GMAIL.COM\n",
       "Name: email, dtype: object"
      ]
     },
     "execution_count": 20,
     "metadata": {},
     "output_type": "execute_result"
    }
   ],
   "source": [
    "# we can also use lambda functions\n",
    "df['email'].apply(upper_email)"
   ]
  },
  {
   "cell_type": "code",
   "execution_count": 21,
   "id": "a7e9d90a",
   "metadata": {},
   "outputs": [],
   "source": [
    "# to update in DataFrame\n",
    "df['email'] = df['email'].apply(upper_email)"
   ]
  },
  {
   "cell_type": "code",
   "execution_count": 22,
   "id": "e163ea45",
   "metadata": {},
   "outputs": [
    {
     "data": {
      "text/plain": [
       "first    6\n",
       "last     6\n",
       "email    6\n",
       "dtype: int64"
      ]
     },
     "execution_count": 22,
     "metadata": {},
     "output_type": "execute_result"
    }
   ],
   "source": [
    "df.apply(len)"
   ]
  },
  {
   "cell_type": "code",
   "execution_count": 23,
   "id": "dc552f87",
   "metadata": {},
   "outputs": [
    {
     "data": {
      "text/plain": [
       "0    3\n",
       "1    3\n",
       "2    3\n",
       "3    3\n",
       "4    3\n",
       "5    3\n",
       "dtype: int64"
      ]
     },
     "execution_count": 23,
     "metadata": {},
     "output_type": "execute_result"
    }
   ],
   "source": [
    "# change axis\n",
    "df.apply(len, axis='columns')"
   ]
  },
  {
   "cell_type": "code",
   "execution_count": 24,
   "id": "f787060c",
   "metadata": {},
   "outputs": [
    {
     "data": {
      "text/plain": [
       "first              abhi\n",
       "last            bhavsar\n",
       "email    ABHI@GMAIL.COM\n",
       "dtype: object"
      ]
     },
     "execution_count": 24,
     "metadata": {},
     "output_type": "execute_result"
    }
   ],
   "source": [
    "# get min value\n",
    "df.apply(pd.Series.min)\n",
    "# we can do like this also -> df.apply(lambda x: x.min())"
   ]
  },
  {
   "cell_type": "markdown",
   "id": "47e10aee",
   "metadata": {},
   "source": [
    "## .applymap()"
   ]
  },
  {
   "cell_type": "code",
   "execution_count": 25,
   "id": "359d6d22",
   "metadata": {},
   "outputs": [
    {
     "data": {
      "text/html": [
       "<div>\n",
       "<style scoped>\n",
       "    .dataframe tbody tr th:only-of-type {\n",
       "        vertical-align: middle;\n",
       "    }\n",
       "\n",
       "    .dataframe tbody tr th {\n",
       "        vertical-align: top;\n",
       "    }\n",
       "\n",
       "    .dataframe thead th {\n",
       "        text-align: right;\n",
       "    }\n",
       "</style>\n",
       "<table border=\"1\" class=\"dataframe\">\n",
       "  <thead>\n",
       "    <tr style=\"text-align: right;\">\n",
       "      <th></th>\n",
       "      <th>first</th>\n",
       "      <th>last</th>\n",
       "      <th>email</th>\n",
       "    </tr>\n",
       "  </thead>\n",
       "  <tbody>\n",
       "    <tr>\n",
       "      <th>0</th>\n",
       "      <td>7</td>\n",
       "      <td>5</td>\n",
       "      <td>17</td>\n",
       "    </tr>\n",
       "    <tr>\n",
       "      <th>1</th>\n",
       "      <td>5</td>\n",
       "      <td>6</td>\n",
       "      <td>17</td>\n",
       "    </tr>\n",
       "    <tr>\n",
       "      <th>2</th>\n",
       "      <td>4</td>\n",
       "      <td>4</td>\n",
       "      <td>19</td>\n",
       "    </tr>\n",
       "    <tr>\n",
       "      <th>3</th>\n",
       "      <td>4</td>\n",
       "      <td>5</td>\n",
       "      <td>14</td>\n",
       "    </tr>\n",
       "    <tr>\n",
       "      <th>4</th>\n",
       "      <td>9</td>\n",
       "      <td>5</td>\n",
       "      <td>19</td>\n",
       "    </tr>\n",
       "    <tr>\n",
       "      <th>5</th>\n",
       "      <td>5</td>\n",
       "      <td>7</td>\n",
       "      <td>17</td>\n",
       "    </tr>\n",
       "  </tbody>\n",
       "</table>\n",
       "</div>"
      ],
      "text/plain": [
       "   first  last  email\n",
       "0      7     5     17\n",
       "1      5     6     17\n",
       "2      4     4     19\n",
       "3      4     5     14\n",
       "4      9     5     19\n",
       "5      5     7     17"
      ]
     },
     "execution_count": 25,
     "metadata": {},
     "output_type": "execute_result"
    }
   ],
   "source": [
    "df.applymap(len)"
   ]
  },
  {
   "cell_type": "code",
   "execution_count": 26,
   "id": "87875aa0",
   "metadata": {},
   "outputs": [
    {
     "data": {
      "text/html": [
       "<div>\n",
       "<style scoped>\n",
       "    .dataframe tbody tr th:only-of-type {\n",
       "        vertical-align: middle;\n",
       "    }\n",
       "\n",
       "    .dataframe tbody tr th {\n",
       "        vertical-align: top;\n",
       "    }\n",
       "\n",
       "    .dataframe thead th {\n",
       "        text-align: right;\n",
       "    }\n",
       "</style>\n",
       "<table border=\"1\" class=\"dataframe\">\n",
       "  <thead>\n",
       "    <tr style=\"text-align: right;\">\n",
       "      <th></th>\n",
       "      <th>first</th>\n",
       "      <th>last</th>\n",
       "      <th>email</th>\n",
       "    </tr>\n",
       "  </thead>\n",
       "  <tbody>\n",
       "    <tr>\n",
       "      <th>0</th>\n",
       "      <td>nisheet</td>\n",
       "      <td>patel</td>\n",
       "      <td>nisheet@gmail.com</td>\n",
       "    </tr>\n",
       "    <tr>\n",
       "      <th>1</th>\n",
       "      <td>rohan</td>\n",
       "      <td>sharma</td>\n",
       "      <td>rohan32@gmail.com</td>\n",
       "    </tr>\n",
       "    <tr>\n",
       "      <th>2</th>\n",
       "      <td>amit</td>\n",
       "      <td>soni</td>\n",
       "      <td>amilsoni2@gmail.com</td>\n",
       "    </tr>\n",
       "    <tr>\n",
       "      <th>3</th>\n",
       "      <td>abhi</td>\n",
       "      <td>patel</td>\n",
       "      <td>abhi@gmail.com</td>\n",
       "    </tr>\n",
       "    <tr>\n",
       "      <th>4</th>\n",
       "      <td>priyanshu</td>\n",
       "      <td>patel</td>\n",
       "      <td>priyanshu@gmail.com</td>\n",
       "    </tr>\n",
       "    <tr>\n",
       "      <th>5</th>\n",
       "      <td>shlok</td>\n",
       "      <td>bhavsar</td>\n",
       "      <td>shlok22@gmail.com</td>\n",
       "    </tr>\n",
       "  </tbody>\n",
       "</table>\n",
       "</div>"
      ],
      "text/plain": [
       "       first     last                email\n",
       "0    nisheet    patel    nisheet@gmail.com\n",
       "1      rohan   sharma    rohan32@gmail.com\n",
       "2       amit     soni  amilsoni2@gmail.com\n",
       "3       abhi    patel       abhi@gmail.com\n",
       "4  priyanshu    patel  priyanshu@gmail.com\n",
       "5      shlok  bhavsar    shlok22@gmail.com"
      ]
     },
     "execution_count": 26,
     "metadata": {},
     "output_type": "execute_result"
    }
   ],
   "source": [
    " df.applymap(str.lower)"
   ]
  },
  {
   "cell_type": "markdown",
   "id": "4e534dde",
   "metadata": {},
   "source": [
    "## .map()\n",
    "Its only work on series "
   ]
  },
  {
   "cell_type": "code",
   "execution_count": 27,
   "id": "acd55b41",
   "metadata": {},
   "outputs": [
    {
     "data": {
      "text/plain": [
       "0         NaN\n",
       "1         NaN\n",
       "2        Amit\n",
       "3         NaN\n",
       "4    CrazyPSP\n",
       "5         NaN\n",
       "Name: first, dtype: object"
      ]
     },
     "execution_count": 27,
     "metadata": {},
     "output_type": "execute_result"
    }
   ],
   "source": [
    "df['first'].map({'priyanshu' : \"CrazyPSP\", 'amit' : 'Amit'})\n",
    "# Instead of using map we can use .replace()"
   ]
  },
  {
   "cell_type": "code",
   "execution_count": 29,
   "id": "e4dbf04a",
   "metadata": {},
   "outputs": [
    {
     "data": {
      "text/plain": [
       "0     nisheet\n",
       "1       rohan\n",
       "2        Amit\n",
       "3        abhi\n",
       "4    CrazyPSP\n",
       "5       shlok\n",
       "Name: first, dtype: object"
      ]
     },
     "execution_count": 29,
     "metadata": {},
     "output_type": "execute_result"
    }
   ],
   "source": [
    "df['first'].replace({'priyanshu' : \"CrazyPSP\", 'amit' : 'Amit'})\n",
    "# to apply change in DataFram\n",
    "# df['first'] = df['first'].replace({'priyanshu' : \"CrazyPSP\", 'amit' : 'Amit'})"
   ]
  },
  {
   "cell_type": "code",
   "execution_count": null,
   "id": "a8642e52",
   "metadata": {},
   "outputs": [],
   "source": []
  }
 ],
 "metadata": {
  "kernelspec": {
   "display_name": "Python 3",
   "language": "python",
   "name": "python3"
  },
  "language_info": {
   "codemirror_mode": {
    "name": "ipython",
    "version": 3
   },
   "file_extension": ".py",
   "mimetype": "text/x-python",
   "name": "python",
   "nbconvert_exporter": "python",
   "pygments_lexer": "ipython3",
   "version": "3.9.0"
  }
 },
 "nbformat": 4,
 "nbformat_minor": 5
}
